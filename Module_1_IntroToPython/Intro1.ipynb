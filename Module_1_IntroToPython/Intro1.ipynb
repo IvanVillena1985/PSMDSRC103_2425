{
 "cells": [
  {
   "cell_type": "markdown",
   "metadata": {},
   "source": [
    "# Module 1: Introduction to Python\n",
    "Python Fundamentals: Variables, Keywords, Statements and Expressions, Comments, Input, Outputs, Operators\n",
    "\n",
    "Python is an interactive interpreted language. It is also object-oriented, and certified by companies like META/Google as the standard language for Machine Learning/AI and a required language for Data Scientists and Data Engineers."
   ]
  },
  {
   "cell_type": "code",
   "execution_count": 4,
   "metadata": {},
   "outputs": [
    {
     "name": "stdout",
     "output_type": "stream",
     "text": [
      "Welcome to Python 3.12's help utility! If this is your first time using\n",
      "Python, you should definitely check out the tutorial at\n",
      "https://docs.python.org/3.12/tutorial/.\n",
      "\n",
      "Enter the name of any module, keyword, or topic to get help on writing\n",
      "Python programs and using Python modules.  To get a list of available\n",
      "modules, keywords, symbols, or topics, enter \"modules\", \"keywords\",\n",
      "\"symbols\", or \"topics\".\n",
      "\n",
      "Each module also comes with a one-line summary of what it does; to list\n",
      "the modules whose name or summary contain a given string such as \"spam\",\n",
      "enter \"modules spam\".\n",
      "\n",
      "To quit this help utility and return to the interpreter,\n",
      "enter \"q\" or \"quit\".\n",
      "\n",
      "\n",
      "Here is a list of the Python keywords.  Enter any keyword to get more help.\n",
      "\n",
      "False               class               from                or\n",
      "None                continue            global              pass\n",
      "True                def                 if                  raise\n",
      "and                 del                 import              return\n",
      "as                  elif                in                  try\n",
      "assert              else                is                  while\n",
      "async               except              lambda              with\n",
      "await               finally             nonlocal            yield\n",
      "break               for                 not                 \n",
      "\n",
      "\n",
      "You are now leaving help and returning to the Python interpreter.\n",
      "If you want to ask for help on a particular object directly from the\n",
      "interpreter, you can type \"help(object)\".  Executing \"help('string')\"\n",
      "has the same effect as typing a particular string at the help> prompt.\n"
     ]
    }
   ],
   "source": [
    "help()"
   ]
  },
  {
   "cell_type": "markdown",
   "metadata": {},
   "source": [
    "## Values and Datatypes\n",
    "\n",
    "If you want to use a VARIABLE you have to store a value in a \"variable.\"\n",
    "\n",
    "Standard data types in Python are:\n",
    "- Numbers\n",
    "- Strings\n",
    "- Lists\n",
    "- Tuples\n",
    "- Dictionaries"
   ]
  },
  {
   "cell_type": "code",
   "execution_count": 5,
   "metadata": {},
   "outputs": [],
   "source": [
    "# Numbers in Python\n",
    "# - Integers (positive or negative whole numbers)\n",
    "# C++ -> int var1 = 1;\n",
    "var1 = 1\n",
    "\n",
    "# - Float \n",
    "# C++ -> double var2 = 1.2;\n",
    "var2 = 1.20\n",
    "\n",
    "# - Complex\n",
    "var3 = 7.32e-3j"
   ]
  },
  {
   "cell_type": "code",
   "execution_count": 8,
   "metadata": {},
   "outputs": [
    {
     "name": "stdout",
     "output_type": "stream",
     "text": [
      "1 1.2 0.00732j\n"
     ]
    }
   ],
   "source": [
    "# Check the values\n",
    "print(var1, var2, var3)"
   ]
  },
  {
   "cell_type": "code",
   "execution_count": 9,
   "metadata": {},
   "outputs": [],
   "source": [
    "# String Datatypes\n",
    "# String is just a collection of characters.\n",
    "\n",
    "str = \"Hello World!\""
   ]
  },
  {
   "cell_type": "code",
   "execution_count": 25,
   "metadata": {},
   "outputs": [
    {
     "name": "stdout",
     "output_type": "stream",
     "text": [
      "Hello World!\n",
      "H\n",
      "!\n",
      "Hello\n",
      "llo World!\n",
      "orld!\n",
      "Hello World!Hello World!\n",
      "Hello World! I'm a person.\n"
     ]
    }
   ],
   "source": [
    "print(str)\n",
    "print(str[0])\n",
    "print(str[-1])\n",
    "\n",
    "# print(str[start_at : end_at - 1])\n",
    "print(str[0:5])\n",
    "\n",
    "# print(str[start_at : blank])\n",
    "print(str[2:])\n",
    "print(str[-5:])\n",
    "\n",
    "# Repetition operator (ON STRINGS)\n",
    "print(str * 2)\n",
    "\n",
    "# Concatenation of string\n",
    "print(str, \"I'm a person.\")"
   ]
  },
  {
   "cell_type": "code",
   "execution_count": 26,
   "metadata": {},
   "outputs": [],
   "source": [
    "# List Datatypes\n",
    "\n",
    "# listName = [element1, element2, element3, ..., element(n-1)]\n",
    "# listName = [0, 1, 2, ..., n-1]\n",
    "\n",
    "students = [\"Flores\", \"Galvez\", \"Serafin\"]"
   ]
  },
  {
   "cell_type": "code",
   "execution_count": 36,
   "metadata": {},
   "outputs": [
    {
     "name": "stdout",
     "output_type": "stream",
     "text": [
      "Galvez\n",
      "G\n",
      "Serafin\n",
      "['Galvez', 'Serafin']\n",
      "['Galvez', 'Serafin']\n",
      "GalvezGalvez\n",
      "GalvezFlores\n"
     ]
    }
   ],
   "source": [
    "print(students[1])\n",
    "print(students[1][0])\n",
    "print(students[-1])\n",
    "print(students[1:3])\n",
    "print(students[1:])\n",
    "print(students[1]*2)\n",
    "print(students[1] + students[0])"
   ]
  },
  {
   "cell_type": "code",
   "execution_count": 37,
   "metadata": {},
   "outputs": [],
   "source": [
    "# Tuple Datatype (Read-only Lists)\n",
    "\n",
    "# TupleName = (element1, 2, 3, .., , n-1)\n",
    "\n",
    "studentTup = (\"Cura\", \"Bangcola\", \"Amizola\")"
   ]
  },
  {
   "cell_type": "code",
   "execution_count": 41,
   "metadata": {},
   "outputs": [
    {
     "name": "stdout",
     "output_type": "stream",
     "text": [
      "('Cura', 'Bangcola', 'Amizola')\n",
      "Cura\n",
      "Amizola\n"
     ]
    }
   ],
   "source": [
    "studentTup\n",
    "print(studentTup)\n",
    "print(studentTup[0])\n",
    "print(studentTup[-1])"
   ]
  },
  {
   "cell_type": "code",
   "execution_count": 42,
   "metadata": {},
   "outputs": [],
   "source": [
    "students[1] = \"No Name\""
   ]
  },
  {
   "cell_type": "code",
   "execution_count": 43,
   "metadata": {},
   "outputs": [
    {
     "name": "stdout",
     "output_type": "stream",
     "text": [
      "['Flores', 'No Name', 'Serafin']\n"
     ]
    }
   ],
   "source": [
    "print(students)"
   ]
  },
  {
   "cell_type": "code",
   "execution_count": 45,
   "metadata": {},
   "outputs": [
    {
     "ename": "TypeError",
     "evalue": "'tuple' object does not support item assignment",
     "output_type": "error",
     "traceback": [
      "\u001b[0;31m---------------------------------------------------------------------------\u001b[0m",
      "\u001b[0;31mTypeError\u001b[0m                                 Traceback (most recent call last)",
      "Cell \u001b[0;32mIn[45], line 1\u001b[0m\n\u001b[0;32m----> 1\u001b[0m studentTup[\u001b[38;5;241m1\u001b[39m] \u001b[38;5;241m=\u001b[39m \u001b[38;5;124m\"\u001b[39m\u001b[38;5;124mNo Name\u001b[39m\u001b[38;5;124m\"\u001b[39m\n",
      "\u001b[0;31mTypeError\u001b[0m: 'tuple' object does not support item assignment"
     ]
    }
   ],
   "source": [
    "studentTup[1] = \"No Name\""
   ]
  },
  {
   "cell_type": "code",
   "execution_count": 46,
   "metadata": {},
   "outputs": [],
   "source": [
    "# Dictionaries\n",
    "\n",
    "# dictName = {key1:value1, ..., keyn:valuen}\n",
    "\n",
    "inst1 = {\"name\":\"Roman\", \"age\":30, \"height\":\"173cm\"}"
   ]
  },
  {
   "cell_type": "code",
   "execution_count": 52,
   "metadata": {},
   "outputs": [
    {
     "name": "stdout",
     "output_type": "stream",
     "text": [
      "{'name': 'Roman', 'age': 30, 'height': '173cm'}\n",
      "dict_keys(['name', 'age', 'height'])\n",
      "dict_values(['Roman', 30, '173cm'])\n",
      "Roman\n"
     ]
    }
   ],
   "source": [
    "print(inst1)\n",
    "\n",
    "# Introduction to (.) operator\n",
    "print(inst1.keys())\n",
    "print(inst1.values())\n",
    "\n",
    "print(inst1[\"name\"])"
   ]
  },
  {
   "cell_type": "code",
   "execution_count": 55,
   "metadata": {},
   "outputs": [
    {
     "name": "stdout",
     "output_type": "stream",
     "text": [
      "False\n",
      "True\n"
     ]
    }
   ],
   "source": [
    "# Boolean Type\n",
    "\n",
    "print(True == False)\n",
    "print(False == False)"
   ]
  },
  {
   "cell_type": "markdown",
   "metadata": {},
   "source": [
    "## Variables, Keywords, and Operators"
   ]
  },
  {
   "cell_type": "code",
   "execution_count": 56,
   "metadata": {},
   "outputs": [
    {
     "name": "stdout",
     "output_type": "stream",
     "text": [
      "Welcome to Python 3.12's help utility! If this is your first time using\n",
      "Python, you should definitely check out the tutorial at\n",
      "https://docs.python.org/3.12/tutorial/.\n",
      "\n",
      "Enter the name of any module, keyword, or topic to get help on writing\n",
      "Python programs and using Python modules.  To get a list of available\n",
      "modules, keywords, symbols, or topics, enter \"modules\", \"keywords\",\n",
      "\"symbols\", or \"topics\".\n",
      "\n",
      "Each module also comes with a one-line summary of what it does; to list\n",
      "the modules whose name or summary contain a given string such as \"spam\",\n",
      "enter \"modules spam\".\n",
      "\n",
      "To quit this help utility and return to the interpreter,\n",
      "enter \"q\" or \"quit\".\n",
      "\n",
      "\n",
      "Here is a list of the Python keywords.  Enter any keyword to get more help.\n",
      "\n",
      "False               class               from                or\n",
      "None                continue            global              pass\n",
      "True                def                 if                  raise\n",
      "and                 del                 import              return\n",
      "as                  elif                in                  try\n",
      "assert              else                is                  while\n",
      "async               except              lambda              with\n",
      "await               finally             nonlocal            yield\n",
      "break               for                 not                 \n",
      "\n",
      "\n",
      "Here is a list of the Python keywords.  Enter any keyword to get more help.\n",
      "\n",
      "False               class               from                or\n",
      "None                continue            global              pass\n",
      "True                def                 if                  raise\n",
      "and                 del                 import              return\n",
      "as                  elif                in                  try\n",
      "assert              else                is                  while\n",
      "async               except              lambda              with\n",
      "await               finally             nonlocal            yield\n",
      "break               for                 not                 \n",
      "\n",
      "\n",
      "You are now leaving help and returning to the Python interpreter.\n",
      "If you want to ask for help on a particular object directly from the\n",
      "interpreter, you can type \"help(object)\".  Executing \"help('string')\"\n",
      "has the same effect as typing a particular string at the help> prompt.\n"
     ]
    }
   ],
   "source": [
    "help()"
   ]
  },
  {
   "cell_type": "code",
   "execution_count": 57,
   "metadata": {},
   "outputs": [
    {
     "ename": "SyntaxError",
     "evalue": "cannot assign to True (1770609971.py, line 1)",
     "output_type": "error",
     "traceback": [
      "\u001b[0;36m  Cell \u001b[0;32mIn[57], line 1\u001b[0;36m\u001b[0m\n\u001b[0;31m    True = 1\u001b[0m\n\u001b[0m    ^\u001b[0m\n\u001b[0;31mSyntaxError\u001b[0m\u001b[0;31m:\u001b[0m cannot assign to True\n"
     ]
    }
   ],
   "source": [
    "True = 1\n",
    "# Cannot assign to a protected word / keyword"
   ]
  },
  {
   "cell_type": "code",
   "execution_count": 58,
   "metadata": {},
   "outputs": [],
   "source": [
    "var1 = 10\n",
    "var2 = 15\n",
    "var3 = 20"
   ]
  },
  {
   "cell_type": "code",
   "execution_count": 59,
   "metadata": {},
   "outputs": [],
   "source": [
    "var1 = var4 = var5 = 10"
   ]
  },
  {
   "cell_type": "code",
   "execution_count": 60,
   "metadata": {},
   "outputs": [
    {
     "name": "stdout",
     "output_type": "stream",
     "text": [
      "10   10\n"
     ]
    }
   ],
   "source": [
    "print(var4, \" \", var5)"
   ]
  },
  {
   "cell_type": "code",
   "execution_count": 61,
   "metadata": {},
   "outputs": [],
   "source": [
    "var1, var2, var3 = 10, 15, 20"
   ]
  },
  {
   "cell_type": "code",
   "execution_count": 62,
   "metadata": {},
   "outputs": [
    {
     "name": "stdout",
     "output_type": "stream",
     "text": [
      "10 15 20\n"
     ]
    }
   ],
   "source": [
    "print(var1, var2, var3)"
   ]
  },
  {
   "cell_type": "code",
   "execution_count": 65,
   "metadata": {},
   "outputs": [
    {
     "data": {
      "text/plain": [
       "' \\nI have\\nmore\\ncomments\\n'"
      ]
     },
     "execution_count": 65,
     "metadata": {},
     "output_type": "execute_result"
    }
   ],
   "source": [
    "# Single Line comment\n",
    "\n",
    "\"\"\" \n",
    "I have\n",
    "more\n",
    "comments\n",
    "\"\"\"\n",
    "\n",
    "# print(5)"
   ]
  },
  {
   "cell_type": "code",
   "execution_count": 67,
   "metadata": {},
   "outputs": [
    {
     "name": "stdout",
     "output_type": "stream",
     "text": [
      "Roman\n"
     ]
    }
   ],
   "source": [
    "# Inputs and Outputs\n",
    "\n",
    "# name1Name2\n",
    "# name1_Name2\n",
    "inputName = input(\"Provide your first name: \")\n",
    "print(inputName)\n",
    "\n",
    "\"\"\" \n",
    "std::cin >> a;\n",
    "std::cout << a;\n",
    "\"\"\""
   ]
  },
  {
   "cell_type": "code",
   "execution_count": 68,
   "metadata": {},
   "outputs": [],
   "source": [
    "# Operators\n",
    "# Arithmetic (+, -, /, *, %), Comparison (==, >, <, >=, <=)\n",
    "# Logical Operators (and, or, not, !)\n",
    "\n",
    "a, b = 5, 10"
   ]
  },
  {
   "cell_type": "code",
   "execution_count": 71,
   "metadata": {},
   "outputs": [
    {
     "name": "stdout",
     "output_type": "stream",
     "text": [
      "15 -5 50 0.5 5\n"
     ]
    }
   ],
   "source": [
    "# Arithmetic Operators\n",
    "print(a+b, a-b, a*b, a/b, a%b)"
   ]
  },
  {
   "cell_type": "code",
   "execution_count": 72,
   "metadata": {},
   "outputs": [
    {
     "name": "stdout",
     "output_type": "stream",
     "text": [
      "False False True False True\n"
     ]
    }
   ],
   "source": [
    "# Comparison / Relation Operators return boolean values\n",
    "print(a==b, a > b, a < b, a >= b, a <= b)"
   ]
  },
  {
   "cell_type": "code",
   "execution_count": null,
   "metadata": {},
   "outputs": [],
   "source": [
    "# Assignment Operators (simplest one is \"=\")\n",
    "c = a + b\n",
    "c += a\n",
    "c -= a\n",
    "c *= a\n",
    "c /= a\n",
    "c %= a\n",
    "c **= a\n",
    "c //= a"
   ]
  },
  {
   "cell_type": "code",
   "execution_count": 73,
   "metadata": {},
   "outputs": [],
   "source": [
    "# Logical Operators (AND, OR, NOT)\n",
    "\n",
    "# AND -> true only if OP1 AND OP2 are both true.\n",
    "# OR -> true if either OP1 OR OP2 are true.\n",
    "# NOT -> true if false, false if true\n",
    "\n",
    "a, b = True, False"
   ]
  },
  {
   "cell_type": "code",
   "execution_count": 76,
   "metadata": {},
   "outputs": [
    {
     "name": "stdout",
     "output_type": "stream",
     "text": [
      "a and b is  False\n",
      "a or b is  True\n",
      "not a is  False\n"
     ]
    }
   ],
   "source": [
    "print(\"a and b is \", a and b)\n",
    "print(\"a or b is \", a or b)\n",
    "print(\"not a is \", not a)"
   ]
  },
  {
   "cell_type": "code",
   "execution_count": null,
   "metadata": {},
   "outputs": [],
   "source": []
  }
 ],
 "metadata": {
  "kernelspec": {
   "display_name": "base",
   "language": "python",
   "name": "python3"
  },
  "language_info": {
   "codemirror_mode": {
    "name": "ipython",
    "version": 3
   },
   "file_extension": ".py",
   "mimetype": "text/x-python",
   "name": "python",
   "nbconvert_exporter": "python",
   "pygments_lexer": "ipython3",
   "version": "3.12.4"
  }
 },
 "nbformat": 4,
 "nbformat_minor": 2
}
