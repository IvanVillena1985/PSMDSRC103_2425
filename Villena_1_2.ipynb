{
  "nbformat": 4,
  "nbformat_minor": 0,
  "metadata": {
    "colab": {
      "provenance": []
    },
    "kernelspec": {
      "name": "python3",
      "display_name": "Python 3"
    },
    "language_info": {
      "name": "python"
    }
  },
  "cells": [
    {
      "cell_type": "code",
      "execution_count": 1,
      "metadata": {
        "colab": {
          "base_uri": "https://localhost:8080/"
        },
        "id": "JDpWSrJVxkYE",
        "outputId": "97db7808-5a22-427b-8557-83d5c87fb67a"
      },
      "outputs": [
        {
          "output_type": "execute_result",
          "data": {
            "text/plain": [
              "65536"
            ]
          },
          "metadata": {},
          "execution_count": 1
        }
      ],
      "source": [
        "2 ** 16 #This code raises 2 to the power of 16"
      ]
    },
    {
      "cell_type": "code",
      "source": [
        "2 / 5, 2 / 5.0 #This code represents a division operation, which results to a floating number since the numerator < denominator"
      ],
      "metadata": {
        "colab": {
          "base_uri": "https://localhost:8080/"
        },
        "id": "dgoxhrLayAiF",
        "outputId": "d979b760-c298-4d9b-9f7c-1264c668f3e2"
      },
      "execution_count": 3,
      "outputs": [
        {
          "output_type": "execute_result",
          "data": {
            "text/plain": [
              "(0.4, 0.4)"
            ]
          },
          "metadata": {},
          "execution_count": 3
        }
      ]
    },
    {
      "cell_type": "code",
      "source": [
        "\"spam\" + \"eggs\" #Concatenates the two words"
      ],
      "metadata": {
        "colab": {
          "base_uri": "https://localhost:8080/",
          "height": 36
        },
        "id": "OP40fuD7yTTA",
        "outputId": "588015a7-6205-46e3-8aa1-b0299d7a33f9"
      },
      "execution_count": 5,
      "outputs": [
        {
          "output_type": "execute_result",
          "data": {
            "text/plain": [
              "'spameggs'"
            ],
            "application/vnd.google.colaboratory.intrinsic+json": {
              "type": "string"
            }
          },
          "metadata": {},
          "execution_count": 5
        }
      ]
    },
    {
      "cell_type": "code",
      "source": [
        "S = \"ham\" #Assignment/declaration of variable"
      ],
      "metadata": {
        "id": "NSKNQCMvydai"
      },
      "execution_count": 7,
      "outputs": []
    },
    {
      "cell_type": "code",
      "source": [
        "\"eggs \" + S #Concatenates a word and an a variable that contains the 'ham' string"
      ],
      "metadata": {
        "colab": {
          "base_uri": "https://localhost:8080/",
          "height": 36
        },
        "id": "0l_XefGDylCT",
        "outputId": "bdf8fe9a-e211-474c-bc02-157bc08d86c6"
      },
      "execution_count": 9,
      "outputs": [
        {
          "output_type": "execute_result",
          "data": {
            "text/plain": [
              "'eggs ham'"
            ],
            "application/vnd.google.colaboratory.intrinsic+json": {
              "type": "string"
            }
          },
          "metadata": {},
          "execution_count": 9
        }
      ]
    },
    {
      "cell_type": "code",
      "source": [
        "S*5 #Repeatedly prints out the word 'ham' (5 times) assigned in S variable"
      ],
      "metadata": {
        "colab": {
          "base_uri": "https://localhost:8080/",
          "height": 36
        },
        "id": "DdL_zlRSy3X8",
        "outputId": "256332be-37bf-4f10-c5ba-931c102ae6aa"
      },
      "execution_count": 11,
      "outputs": [
        {
          "output_type": "execute_result",
          "data": {
            "text/plain": [
              "'hamhamhamhamham'"
            ],
            "application/vnd.google.colaboratory.intrinsic+json": {
              "type": "string"
            }
          },
          "metadata": {},
          "execution_count": 11
        }
      ]
    },
    {
      "cell_type": "code",
      "source": [
        "S[:0] #Slicing operation, the start index was omitted hence resulting to blank output"
      ],
      "metadata": {
        "colab": {
          "base_uri": "https://localhost:8080/",
          "height": 36
        },
        "id": "Oy2eJcMYzJ5k",
        "outputId": "0c9db7e4-3385-4700-91bb-fcc2330db8e4"
      },
      "execution_count": 13,
      "outputs": [
        {
          "output_type": "execute_result",
          "data": {
            "text/plain": [
              "''"
            ],
            "application/vnd.google.colaboratory.intrinsic+json": {
              "type": "string"
            }
          },
          "metadata": {},
          "execution_count": 13
        }
      ]
    },
    {
      "cell_type": "code",
      "source": [
        "\"green %s and %s\" % (\"eggs\", S) #String formatting. % is a placeholder"
      ],
      "metadata": {
        "colab": {
          "base_uri": "https://localhost:8080/",
          "height": 36
        },
        "id": "ixvN4kmZzfx5",
        "outputId": "02ab7f12-1e39-445e-b212-6f81d5e597af"
      },
      "execution_count": 15,
      "outputs": [
        {
          "output_type": "execute_result",
          "data": {
            "text/plain": [
              "'green eggs and ham'"
            ],
            "application/vnd.google.colaboratory.intrinsic+json": {
              "type": "string"
            }
          },
          "metadata": {},
          "execution_count": 15
        }
      ]
    },
    {
      "cell_type": "code",
      "source": [
        "('x',) [0] #Accessing an element from a tuple (x = 0)"
      ],
      "metadata": {
        "colab": {
          "base_uri": "https://localhost:8080/",
          "height": 36
        },
        "id": "vBYtqmtTz3cB",
        "outputId": "b8c29f27-c4b9-428a-ff01-01b618a81cac"
      },
      "execution_count": 17,
      "outputs": [
        {
          "output_type": "execute_result",
          "data": {
            "text/plain": [
              "'x'"
            ],
            "application/vnd.google.colaboratory.intrinsic+json": {
              "type": "string"
            }
          },
          "metadata": {},
          "execution_count": 17
        }
      ]
    },
    {
      "cell_type": "code",
      "source": [
        "('x', 'y') [1] #Accessing an element from a tuple (x = 0, y = 1)\n"
      ],
      "metadata": {
        "colab": {
          "base_uri": "https://localhost:8080/",
          "height": 36
        },
        "id": "vC6Hqe1P0DRl",
        "outputId": "a0100fbe-4c42-458a-8987-5fa96adca4b9"
      },
      "execution_count": 18,
      "outputs": [
        {
          "output_type": "execute_result",
          "data": {
            "text/plain": [
              "'y'"
            ],
            "application/vnd.google.colaboratory.intrinsic+json": {
              "type": "string"
            }
          },
          "metadata": {},
          "execution_count": 18
        }
      ]
    },
    {
      "cell_type": "code",
      "source": [
        "L = [1,2,3] + [4,5,6] #Concatenates the two list\n"
      ],
      "metadata": {
        "id": "hePVnPAk0ReJ"
      },
      "execution_count": 21,
      "outputs": []
    },
    {
      "cell_type": "code",
      "source": [
        "L, L[:], L[:0], L[-2], L[-2:] #L gives the full list of elements, L[:] generates a new copy of the list, L[:0] is an empty list hence it will not be printed out only brackets,\n",
        "#L[-2] prints the 2nd to the last element, in reverse indexing starts from -1, L[:-2] generates a list starting from the 2nd to the last"
      ],
      "metadata": {
        "colab": {
          "base_uri": "https://localhost:8080/"
        },
        "id": "uKbIPzIE0VgU",
        "outputId": "60057da1-514a-4ee1-b04c-dfbb1d4eeb34"
      },
      "execution_count": 22,
      "outputs": [
        {
          "output_type": "execute_result",
          "data": {
            "text/plain": [
              "([1, 2, 3, 4, 5, 6], [1, 2, 3, 4, 5, 6], [], 5, [5, 6])"
            ]
          },
          "metadata": {},
          "execution_count": 22
        }
      ]
    },
    {
      "cell_type": "code",
      "source": [
        "([1,2,3] + [4,5,6]) [2:4] #Extracts the elements from the concatenated list"
      ],
      "metadata": {
        "colab": {
          "base_uri": "https://localhost:8080/"
        },
        "id": "d7T1JWAv1qQT",
        "outputId": "8e9d1e5a-3075-4cc2-d220-973721868d93"
      },
      "execution_count": 23,
      "outputs": [
        {
          "output_type": "execute_result",
          "data": {
            "text/plain": [
              "[3, 4]"
            ]
          },
          "metadata": {},
          "execution_count": 23
        }
      ]
    },
    {
      "cell_type": "code",
      "source": [
        "[L[2], L[3]] #Extracts the elements contained in the L variable"
      ],
      "metadata": {
        "colab": {
          "base_uri": "https://localhost:8080/"
        },
        "id": "0BnstIME2AVD",
        "outputId": "df890acb-1529-4eb4-f166-27e0c64c5c23"
      },
      "execution_count": 24,
      "outputs": [
        {
          "output_type": "execute_result",
          "data": {
            "text/plain": [
              "[3, 4]"
            ]
          },
          "metadata": {},
          "execution_count": 24
        }
      ]
    },
    {
      "cell_type": "code",
      "source": [
        "L.reverse(); L #Reversed the list in variable L. Reversing is different from sorting"
      ],
      "metadata": {
        "colab": {
          "base_uri": "https://localhost:8080/"
        },
        "id": "4SahFtTK2LPk",
        "outputId": "4307614e-51b4-4a81-a8fd-d70ac9e0e3f8"
      },
      "execution_count": 25,
      "outputs": [
        {
          "output_type": "execute_result",
          "data": {
            "text/plain": [
              "[6, 5, 4, 3, 2, 1]"
            ]
          },
          "metadata": {},
          "execution_count": 25
        }
      ]
    },
    {
      "cell_type": "code",
      "source": [
        "L.sort(); L #Sorts out the list in variable L, from lowest to highest"
      ],
      "metadata": {
        "colab": {
          "base_uri": "https://localhost:8080/"
        },
        "id": "HEhSyvEF2cTt",
        "outputId": "bf6277c2-65c2-430c-a579-63eb0aecce2b"
      },
      "execution_count": 26,
      "outputs": [
        {
          "output_type": "execute_result",
          "data": {
            "text/plain": [
              "[1, 2, 3, 4, 5, 6]"
            ]
          },
          "metadata": {},
          "execution_count": 26
        }
      ]
    },
    {
      "cell_type": "code",
      "source": [
        "L.index(4){'a':1, 'b':2} ['b'] #Results in error, because two different operations were expressed in a single line of code."
      ],
      "metadata": {
        "colab": {
          "base_uri": "https://localhost:8080/",
          "height": 124
        },
        "id": "WeqHCgP92nyV",
        "outputId": "5e6d145e-0450-42d4-8200-f31ab14ade90"
      },
      "execution_count": 32,
      "outputs": [
        {
          "output_type": "error",
          "ename": "SyntaxError",
          "evalue": "invalid syntax (<ipython-input-32-8f008908ac1b>, line 1)",
          "traceback": [
            "\u001b[0;36m  File \u001b[0;32m\"<ipython-input-32-8f008908ac1b>\"\u001b[0;36m, line \u001b[0;32m1\u001b[0m\n\u001b[0;31m    L.index(4){'a':1, 'b':2} ['b'] #Results in error, because two different operations were expressed in a single line of code.\u001b[0m\n\u001b[0m              ^\u001b[0m\n\u001b[0;31mSyntaxError\u001b[0m\u001b[0;31m:\u001b[0m invalid syntax\n"
          ]
        }
      ]
    },
    {
      "cell_type": "code",
      "source": [
        "D = {'x':1, 'y':2, 'z':3} #Creation of a dictionary and assigned this to the D variable"
      ],
      "metadata": {
        "id": "L5Q3IM_p3dU8"
      },
      "execution_count": 34,
      "outputs": []
    },
    {
      "cell_type": "code",
      "source": [
        "D['w'] = 0 #Adding a new element in the dictionary created\n"
      ],
      "metadata": {
        "id": "1M_xgDdb3kmn"
      },
      "execution_count": 38,
      "outputs": []
    },
    {
      "cell_type": "code",
      "source": [
        "D['x'] + D['w'] #Adding the values contained in the x and w"
      ],
      "metadata": {
        "colab": {
          "base_uri": "https://localhost:8080/"
        },
        "id": "JY42mND33qgv",
        "outputId": "54003e8f-9794-4fd7-c44f-4f750bf8c110"
      },
      "execution_count": 39,
      "outputs": [
        {
          "output_type": "execute_result",
          "data": {
            "text/plain": [
              "1"
            ]
          },
          "metadata": {},
          "execution_count": 39
        }
      ]
    },
    {
      "cell_type": "code",
      "source": [
        "D[(1,2,3)] = 4 #Adding a new element in the dictionary created however instead of naming the key in string it was named in numbers (int)\n"
      ],
      "metadata": {
        "id": "HpbJaGfF3_B6"
      },
      "execution_count": 43,
      "outputs": []
    },
    {
      "cell_type": "code",
      "source": [
        "D.keys(), D.values(), D.has_key((1,2,3)) [[]], [\"\", [], {}, None] #Results in error since the has_key is a non-existent function"
      ],
      "metadata": {
        "colab": {
          "base_uri": "https://localhost:8080/",
          "height": 141
        },
        "id": "MAM_uWWg4BtY",
        "outputId": "5510cda2-f296-4b92-a642-e193e9b1f038"
      },
      "execution_count": 44,
      "outputs": [
        {
          "output_type": "error",
          "ename": "AttributeError",
          "evalue": "'dict' object has no attribute 'has_key'",
          "traceback": [
            "\u001b[0;31m---------------------------------------------------------------------------\u001b[0m",
            "\u001b[0;31mAttributeError\u001b[0m                            Traceback (most recent call last)",
            "\u001b[0;32m<ipython-input-44-6523965c22e7>\u001b[0m in \u001b[0;36m<cell line: 1>\u001b[0;34m()\u001b[0m\n\u001b[0;32m----> 1\u001b[0;31m \u001b[0mD\u001b[0m\u001b[0;34m.\u001b[0m\u001b[0mkeys\u001b[0m\u001b[0;34m(\u001b[0m\u001b[0;34m)\u001b[0m\u001b[0;34m,\u001b[0m \u001b[0mD\u001b[0m\u001b[0;34m.\u001b[0m\u001b[0mvalues\u001b[0m\u001b[0;34m(\u001b[0m\u001b[0;34m)\u001b[0m\u001b[0;34m,\u001b[0m \u001b[0mD\u001b[0m\u001b[0;34m.\u001b[0m\u001b[0mhas_key\u001b[0m\u001b[0;34m(\u001b[0m\u001b[0;34m(\u001b[0m\u001b[0;36m1\u001b[0m\u001b[0;34m,\u001b[0m\u001b[0;36m2\u001b[0m\u001b[0;34m,\u001b[0m\u001b[0;36m3\u001b[0m\u001b[0;34m)\u001b[0m\u001b[0;34m)\u001b[0m \u001b[0;34m[\u001b[0m\u001b[0;34m[\u001b[0m\u001b[0;34m]\u001b[0m\u001b[0;34m]\u001b[0m\u001b[0;34m,\u001b[0m \u001b[0;34m[\u001b[0m\u001b[0;34m\"\"\u001b[0m\u001b[0;34m,\u001b[0m \u001b[0;34m[\u001b[0m\u001b[0;34m]\u001b[0m\u001b[0;34m,\u001b[0m \u001b[0;34m{\u001b[0m\u001b[0;34m}\u001b[0m\u001b[0;34m,\u001b[0m \u001b[0;32mNone\u001b[0m\u001b[0;34m]\u001b[0m\u001b[0;34m\u001b[0m\u001b[0;34m\u001b[0m\u001b[0m\n\u001b[0m",
            "\u001b[0;31mAttributeError\u001b[0m: 'dict' object has no attribute 'has_key'"
          ]
        }
      ]
    },
    {
      "cell_type": "markdown",
      "source": [
        "# Define a list named L that contains four strings or numbers. Experiment with the following boundary cases."
      ],
      "metadata": {
        "id": "Q543KZZo44HC"
      }
    },
    {
      "cell_type": "code",
      "source": [
        "L = ['Ivan', 'Cassidy', 'Famacion', 'Villena']\n",
        "L[66] #Prompts out of range\n",
        "L[-9999:100] #Prompts out of range\n"
      ],
      "metadata": {
        "colab": {
          "base_uri": "https://localhost:8080/",
          "height": 176
        },
        "id": "QuBw8LKz47gA",
        "outputId": "c8b3fbcd-4721-4242-b0ae-ee8cf5ddacbc"
      },
      "execution_count": 49,
      "outputs": [
        {
          "output_type": "error",
          "ename": "IndexError",
          "evalue": "list index out of range",
          "traceback": [
            "\u001b[0;31m---------------------------------------------------------------------------\u001b[0m",
            "\u001b[0;31mIndexError\u001b[0m                                Traceback (most recent call last)",
            "\u001b[0;32m<ipython-input-49-5c32a36db8eb>\u001b[0m in \u001b[0;36m<cell line: 2>\u001b[0;34m()\u001b[0m\n\u001b[1;32m      1\u001b[0m \u001b[0mname\u001b[0m \u001b[0;34m=\u001b[0m \u001b[0;34m[\u001b[0m\u001b[0;34m'Ivan'\u001b[0m\u001b[0;34m,\u001b[0m \u001b[0;34m'Cassidy'\u001b[0m\u001b[0;34m,\u001b[0m \u001b[0;34m'Famacion'\u001b[0m\u001b[0;34m,\u001b[0m \u001b[0;34m'Villena'\u001b[0m\u001b[0;34m]\u001b[0m\u001b[0;34m\u001b[0m\u001b[0;34m\u001b[0m\u001b[0m\n\u001b[0;32m----> 2\u001b[0;31m \u001b[0mname\u001b[0m\u001b[0;34m[\u001b[0m\u001b[0;36m66\u001b[0m\u001b[0;34m]\u001b[0m \u001b[0;31m#Prompts out of range\u001b[0m\u001b[0;34m\u001b[0m\u001b[0;34m\u001b[0m\u001b[0m\n\u001b[0m\u001b[1;32m      3\u001b[0m \u001b[0mname\u001b[0m\u001b[0;34m[\u001b[0m\u001b[0;34m-\u001b[0m\u001b[0;36m9999\u001b[0m\u001b[0;34m:\u001b[0m\u001b[0;36m100\u001b[0m\u001b[0;34m]\u001b[0m\u001b[0;34m\u001b[0m\u001b[0;34m\u001b[0m\u001b[0m\n",
            "\u001b[0;31mIndexError\u001b[0m: list index out of range"
          ]
        }
      ]
    },
    {
      "cell_type": "code",
      "source": [
        "L[3:1] #Empty list, since the start index (3) > end index (1)"
      ],
      "metadata": {
        "colab": {
          "base_uri": "https://localhost:8080/"
        },
        "id": "uYnTGj5p5FKA",
        "outputId": "e31bf149-fccd-4afd-8bcb-45dcef5654dd"
      },
      "execution_count": 55,
      "outputs": [
        {
          "output_type": "execute_result",
          "data": {
            "text/plain": [
              "[]"
            ]
          },
          "metadata": {},
          "execution_count": 55
        }
      ]
    },
    {
      "cell_type": "code",
      "source": [
        "L[3:1] = [?] #Syntax error, strings are immutable hence assignment is not allowed"
      ],
      "metadata": {
        "colab": {
          "base_uri": "https://localhost:8080/",
          "height": 106
        },
        "id": "fSOjrWlE5ukr",
        "outputId": "8d9cac7f-95c4-481e-c3cb-da2d58efc59c"
      },
      "execution_count": 60,
      "outputs": [
        {
          "output_type": "error",
          "ename": "SyntaxError",
          "evalue": "invalid syntax (<ipython-input-60-583bb5527635>, line 1)",
          "traceback": [
            "\u001b[0;36m  File \u001b[0;32m\"<ipython-input-60-583bb5527635>\"\u001b[0;36m, line \u001b[0;32m1\u001b[0m\n\u001b[0;31m    L[3:1] = [?] #Syntax error, strings are immutable hence assignment is not allowed\u001b[0m\n\u001b[0m              ^\u001b[0m\n\u001b[0;31mSyntaxError\u001b[0m\u001b[0;31m:\u001b[0m invalid syntax\n"
          ]
        }
      ]
    },
    {
      "cell_type": "code",
      "source": [],
      "metadata": {
        "id": "ZJvTKAsF6cuW"
      },
      "execution_count": null,
      "outputs": []
    },
    {
      "cell_type": "markdown",
      "source": [
        "##Define another list L, perform the following and use comments to explain:"
      ],
      "metadata": {
        "id": "cL_X14cd7MfQ"
      }
    },
    {
      "cell_type": "code",
      "source": [
        "L = [1, 2, 3, 4, 5, 6, 7, 8]\n",
        "L[3] = [5, 6] #Assign a list as one of its element\n",
        "L[2:4] = [] #Assign an empty list to a range\n",
        "del L[0] #Delete an item in your list using the del statement\n",
        "print(L) #Remaining indexes of the list is 0:4\n",
        "\n"
      ],
      "metadata": {
        "colab": {
          "base_uri": "https://localhost:8080/"
        },
        "id": "S6kJ2YYP7P0J",
        "outputId": "dd0ed598-4866-4f1a-f737-36342a7e9e3e"
      },
      "execution_count": 68,
      "outputs": [
        {
          "output_type": "stream",
          "name": "stdout",
          "text": [
            "[2, 5, 6, 7, 8]\n"
          ]
        }
      ]
    },
    {
      "cell_type": "code",
      "source": [
        "L[0:5] = [] #Delete an entire range from your list. Add one index from the list to entirely delete\n",
        "print(L)"
      ],
      "metadata": {
        "colab": {
          "base_uri": "https://localhost:8080/"
        },
        "id": "dJeCHpYs8HWz",
        "outputId": "032ee1c1-93b9-4f07-8127-c4d2449a0a66"
      },
      "execution_count": 71,
      "outputs": [
        {
          "output_type": "stream",
          "name": "stdout",
          "text": [
            "[]\n"
          ]
        }
      ]
    },
    {
      "cell_type": "code",
      "source": [
        "L = [1, 2, 3, 4, 5, 6, 7, 8]\n",
        "L[2:3] = [10] #Assign a non-sequence value to a slice.\n",
        "print(L)"
      ],
      "metadata": {
        "colab": {
          "base_uri": "https://localhost:8080/"
        },
        "id": "msg8pKLZ8QUx",
        "outputId": "bb2e28b3-9cae-43e5-9135-b5fa0b4bf4d3"
      },
      "execution_count": 77,
      "outputs": [
        {
          "output_type": "stream",
          "name": "stdout",
          "text": [
            "[1, 2, 10, 4, 5, 6, 7, 8]\n"
          ]
        }
      ]
    },
    {
      "cell_type": "markdown",
      "source": [
        "##Create a dictionary named D with three entries, for keys a, b, and c."
      ],
      "metadata": {
        "id": "PdkBaqxi9dwZ"
      }
    },
    {
      "cell_type": "code",
      "source": [
        "D = {'a':10, 'b':20, 'c':30}"
      ],
      "metadata": {
        "id": "vX76auTW9fTV"
      },
      "execution_count": 78,
      "outputs": []
    },
    {
      "cell_type": "code",
      "source": [
        "#What happens if you try to index a nonexistent key d (D[‘d’])?\n",
        "D['d'] #Results in error, because this calls out a dict key which not included in the dictionary created"
      ],
      "metadata": {
        "colab": {
          "base_uri": "https://localhost:8080/",
          "height": 141
        },
        "id": "jj0JzRpq9lGY",
        "outputId": "9de9dac6-24d3-4fa3-af06-174fca7f8d5d"
      },
      "execution_count": 79,
      "outputs": [
        {
          "output_type": "error",
          "ename": "KeyError",
          "evalue": "'d'",
          "traceback": [
            "\u001b[0;31m---------------------------------------------------------------------------\u001b[0m",
            "\u001b[0;31mKeyError\u001b[0m                                  Traceback (most recent call last)",
            "\u001b[0;32m<ipython-input-79-7c16f3adab2d>\u001b[0m in \u001b[0;36m<cell line: 1>\u001b[0;34m()\u001b[0m\n\u001b[0;32m----> 1\u001b[0;31m \u001b[0mD\u001b[0m\u001b[0;34m[\u001b[0m\u001b[0;34m'd'\u001b[0m\u001b[0;34m]\u001b[0m\u001b[0;34m\u001b[0m\u001b[0;34m\u001b[0m\u001b[0m\n\u001b[0m",
            "\u001b[0;31mKeyError\u001b[0m: 'd'"
          ]
        }
      ]
    },
    {
      "cell_type": "code",
      "source": [
        "#What does python do if you try to assign to a nonexistent key?\n",
        "D['d'] = 40 #Adds this to the present dictionary\n",
        "print(D)\n"
      ],
      "metadata": {
        "colab": {
          "base_uri": "https://localhost:8080/"
        },
        "id": "qyqIwrp2-BwE",
        "outputId": "f25e07f2-accc-46c4-d256-52d1ea3f587e"
      },
      "execution_count": 81,
      "outputs": [
        {
          "output_type": "stream",
          "name": "stdout",
          "text": [
            "{'a': 10, 'b': 20, 'c': 30, 'd': 40}\n"
          ]
        }
      ]
    },
    {
      "cell_type": "code",
      "source": [
        "#Compare this to out of bounds assignments.\n",
        "\n",
        "#Dictionaries allows creation of new keys while in list this must extended first before assigning a new one"
      ],
      "metadata": {
        "id": "zLLVECVg-S5f"
      },
      "execution_count": null,
      "outputs": []
    },
    {
      "cell_type": "markdown",
      "source": [
        "##Run tests to answer the following questions:"
      ],
      "metadata": {
        "id": "eQvsWRJG_QZS"
      }
    },
    {
      "cell_type": "code",
      "source": [
        "#What happens when you try to use the + operator on different/mixed types?\n",
        "L = ['Ivan', 'Villena']\n",
        "M = [1, 2]\n",
        "L + M #It can be still concanated despite difference in data type"
      ],
      "metadata": {
        "colab": {
          "base_uri": "https://localhost:8080/"
        },
        "id": "j0sg1w6__SEW",
        "outputId": "7cff76b6-2223-49c3-f9da-cd74969e944b"
      },
      "execution_count": 85,
      "outputs": [
        {
          "output_type": "execute_result",
          "data": {
            "text/plain": [
              "['Ivan', 'Villena', 1, 2]"
            ]
          },
          "metadata": {},
          "execution_count": 85
        }
      ]
    },
    {
      "cell_type": "code",
      "source": [
        "#Does + work if one of the operands is a dictionary?\n",
        "L = [1, 2]\n",
        "M = {'a': 10, 'b': 20}\n",
        "L + M #No, it does not work since only list can be only concatenated"
      ],
      "metadata": {
        "colab": {
          "base_uri": "https://localhost:8080/",
          "height": 176
        },
        "id": "I7XQMkk3_fhF",
        "outputId": "d26eab1e-4b4d-4a9b-e363-c7ded4a6bbd0"
      },
      "execution_count": 86,
      "outputs": [
        {
          "output_type": "error",
          "ename": "TypeError",
          "evalue": "can only concatenate list (not \"dict\") to list",
          "traceback": [
            "\u001b[0;31m---------------------------------------------------------------------------\u001b[0m",
            "\u001b[0;31mTypeError\u001b[0m                                 Traceback (most recent call last)",
            "\u001b[0;32m<ipython-input-86-9dc85ab3572b>\u001b[0m in \u001b[0;36m<cell line: 3>\u001b[0;34m()\u001b[0m\n\u001b[1;32m      1\u001b[0m \u001b[0mL\u001b[0m \u001b[0;34m=\u001b[0m \u001b[0;34m[\u001b[0m\u001b[0;36m1\u001b[0m\u001b[0;34m,\u001b[0m \u001b[0;36m2\u001b[0m\u001b[0;34m]\u001b[0m\u001b[0;34m\u001b[0m\u001b[0;34m\u001b[0m\u001b[0m\n\u001b[1;32m      2\u001b[0m \u001b[0mM\u001b[0m \u001b[0;34m=\u001b[0m \u001b[0;34m{\u001b[0m\u001b[0;34m'a'\u001b[0m\u001b[0;34m:\u001b[0m \u001b[0;36m10\u001b[0m\u001b[0;34m,\u001b[0m \u001b[0;34m'b'\u001b[0m\u001b[0;34m:\u001b[0m \u001b[0;36m20\u001b[0m\u001b[0;34m}\u001b[0m\u001b[0;34m\u001b[0m\u001b[0;34m\u001b[0m\u001b[0m\n\u001b[0;32m----> 3\u001b[0;31m \u001b[0mL\u001b[0m \u001b[0;34m+\u001b[0m \u001b[0mM\u001b[0m\u001b[0;34m\u001b[0m\u001b[0;34m\u001b[0m\u001b[0m\n\u001b[0m",
            "\u001b[0;31mTypeError\u001b[0m: can only concatenate list (not \"dict\") to list"
          ]
        }
      ]
    },
    {
      "cell_type": "code",
      "source": [
        "#Try list.append() (use an actual list you created). Does the append() method work for both lists and strings?\n",
        "L = ['Ivan', 'Cassidy']\n",
        "M = [1, 2]\n",
        "L.append('Villena')\n",
        "M.append(3)\n",
        "print(L, M) #The append method works for both strings and list"
      ],
      "metadata": {
        "colab": {
          "base_uri": "https://localhost:8080/"
        },
        "id": "oOyyCmT6Ad6o",
        "outputId": "e235fa27-1bb7-4759-977a-3ed29ae343ce"
      },
      "execution_count": 92,
      "outputs": [
        {
          "output_type": "stream",
          "name": "stdout",
          "text": [
            "['Ivan', 'Cassidy', 'Villena'] [1, 2, 3]\n"
          ]
        }
      ]
    },
    {
      "cell_type": "code",
      "source": [
        "#Try concatenating (+) two lists or strings, what happens?\n",
        "L = [10, 20, 30]\n",
        "M = [40, 50, 60]\n",
        "N = L + M #Creates a new list while the original lists remain unchanged\n",
        "print(N)"
      ],
      "metadata": {
        "colab": {
          "base_uri": "https://localhost:8080/"
        },
        "id": "s0YB7gazA_KC",
        "outputId": "edbe2e41-0dc1-4aa4-a5f7-d9dd67f8f417"
      },
      "execution_count": 94,
      "outputs": [
        {
          "output_type": "stream",
          "name": "stdout",
          "text": [
            "[10, 20, 30, 40, 50, 60]\n"
          ]
        }
      ]
    },
    {
      "cell_type": "markdown",
      "source": [
        "##Define a string S of four characters. Then type the following expression: S[0] [0] [0] [0]. Explain what is happening."
      ],
      "metadata": {
        "id": "yrA-AGB2CHEF"
      }
    },
    {
      "cell_type": "code",
      "source": [
        "S = 'Ivan'\n",
        "S[0] [0] [0] [0] #This extract the value contained in the index 0. Although this was typed repeteadly but Python recognizes this as one function"
      ],
      "metadata": {
        "colab": {
          "base_uri": "https://localhost:8080/",
          "height": 36
        },
        "id": "JIbkC0WbCIWx",
        "outputId": "87e9db9d-ad26-40a6-d4a7-8c4c34045405"
      },
      "execution_count": 95,
      "outputs": [
        {
          "output_type": "execute_result",
          "data": {
            "text/plain": [
              "'I'"
            ],
            "application/vnd.google.colaboratory.intrinsic+json": {
              "type": "string"
            }
          },
          "metadata": {},
          "execution_count": 95
        }
      ]
    },
    {
      "cell_type": "markdown",
      "source": [
        "##Define a string S of 4 characters again: S = “spam”. Write an assignment that changes the string to “slam”, using only slicing and concatenation. Does it work? Try index assignment."
      ],
      "metadata": {
        "id": "hjEUfJ0nCgdE"
      }
    },
    {
      "cell_type": "code",
      "source": [
        "S = 'spam'\n",
        "S = S[:1] + 'l' + S[2:] #Direct modification of string is not allowed (immutability) hence in this cases slicing and modifcations are the remedies\n",
        "print(S)"
      ],
      "metadata": {
        "colab": {
          "base_uri": "https://localhost:8080/"
        },
        "id": "_KckyOwEChhN",
        "outputId": "d402843d-3e4a-4531-e928-4a4a370895ae"
      },
      "execution_count": 97,
      "outputs": [
        {
          "output_type": "stream",
          "name": "stdout",
          "text": [
            "slam\n"
          ]
        }
      ]
    },
    {
      "cell_type": "code",
      "source": [],
      "metadata": {
        "id": "3Z5tSpDvCrvc"
      },
      "execution_count": null,
      "outputs": []
    }
  ]
}